{
 "cells": [
  {
   "cell_type": "markdown",
   "metadata": {},
   "source": [
    "浅梦github  \n",
    "https://github.com/adnil8130/Code_Exercise/tree/master/%E5%89%91%E6%8C%87Offer  \n",
    "公众号介绍  \n",
    "https://mp.weixin.qq.com/s/I3PRdFHSB_YdiBUjfsJCYQ"
   ]
  },
  {
   "cell_type": "code",
   "execution_count": null,
   "metadata": {},
   "outputs": [],
   "source": []
  }
 ],
 "metadata": {
  "kernelspec": {
   "display_name": "Python 3",
   "language": "python",
   "name": "python3"
  },
  "language_info": {
   "codemirror_mode": {
    "name": "ipython",
    "version": 3
   },
   "file_extension": ".py",
   "mimetype": "text/x-python",
   "name": "python",
   "nbconvert_exporter": "python",
   "pygments_lexer": "ipython3",
   "version": "3.6.5"
  }
 },
 "nbformat": 4,
 "nbformat_minor": 2
}
