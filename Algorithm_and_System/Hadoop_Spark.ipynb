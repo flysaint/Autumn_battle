{
 "cells": [
  {
   "cell_type": "markdown",
   "metadata": {},
   "source": [
    "### Hadoop\n",
    "### 01_数据倾斜、为啥 Hive Reduce 阶段一直停留在99%\n",
    "### 02_Join函数的map和reduce过程\n",
    "### 03_有哪些hive sql的优化技巧\n",
    "### 04_怎么利用hive sql 的map个数 reduce个数\n",
    "### 05_怎么检测hviei数据每个分群数据大小\n",
    "### 06_怎么查看job占用资源情况\n",
    "### 07_什么时快照表、什么拉链表、各有什么优势"
   ]
  },
  {
   "cell_type": "code",
   "execution_count": null,
   "metadata": {},
   "outputs": [],
   "source": []
  }
 ],
 "metadata": {
  "kernelspec": {
   "display_name": "Python 3",
   "language": "python",
   "name": "python3"
  },
  "language_info": {
   "codemirror_mode": {
    "name": "ipython",
    "version": 3
   },
   "file_extension": ".py",
   "mimetype": "text/x-python",
   "name": "python",
   "nbconvert_exporter": "python",
   "pygments_lexer": "ipython3",
   "version": "3.6.5"
  }
 },
 "nbformat": 4,
 "nbformat_minor": 2
}
