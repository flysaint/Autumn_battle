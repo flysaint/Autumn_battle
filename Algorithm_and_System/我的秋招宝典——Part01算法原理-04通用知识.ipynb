{
 "cells": [
  {
   "cell_type": "markdown",
   "metadata": {},
   "source": [
    "## 目录\n",
    "### 4.1 特征工程\n",
    "### 4.2 评价指标\n",
    "### 4.3 最优化方法"
   ]
  },
  {
   "cell_type": "markdown",
   "metadata": {},
   "source": [
    "===========================================================================================================================================\n",
    "====================\n",
    "### 4.1 特征工程习题集\n",
    "参考 整理一份详细的数据预处理方法\n",
    "https://mp.weixin.qq.com/s?__biz=MzIyNjM2MzQyNg==&mid=2247486611&idx=1&sn=86e90f1796650df4b6ca2300a25c3a96&chksm=e870dddedf0754c8ea79e1a495ed5e3f14841a11f285809499ca71ac5b269f063b39b785cb7d&mpshare=1&scene=1&srcid=&sharer_sharetime=1574834171599&sharer_shareid=ce71cb8916e6563c3a833837c5e9bc18&key=a3e7a9e6351a3fdaa0f5064bbe93d8abe8836e4f1ac8cb2b9cb045b9ef9eb94c7ec2b9a111263df6a3194819fc7688a9b754bdec717de90a6d9a33f549081ff52cedbb0bf42ebe07ec9d22c39c075090&ascene=1&uin=MTY0Mjc4NDkwMA%3D%3D&devicetype=Windows+10&version=62070158&lang=zh_CN&pass_ticket=1Say5lfE1%2FWnnYnvV%2Fo%2BEG25lxuQly5qT76ESRzqNbmW4IOQW2wESAlI%2BIMWln%2FB\n",
    "手把手带你入门和实践特征工程的万字笔记（附代码下载）\n",
    "https://mp.weixin.qq.com/s?__biz=MzIyNjM2MzQyNg==&mid=2247486476&idx=1&sn=dad421fd939dd441522b0ec0b8bbb95e&chksm=e870dd41df075457944583ebe920287cec52e65b4e680fbd5fd99122dd9263012a2a8e5d493a&mpshare=1&scene=1&srcid=&sharer_sharetime=1574901112178&sharer_shareid=ce71cb8916e6563c3a833837c5e9bc18&key=c02f684d6b26de403a78fbee0bda0d65944b5ce9d264907ac58ee4da10285afed05ce16836976d02b69270bfdbbd33f11133e2887244e6896e2931198f9ee8894dfc8e16b9da531d63d55cd2823d3dbb&ascene=1&uin=MTY0Mjc4NDkwMA%3D%3D&devicetype=Windows+10&version=62070158&lang=zh_CN&pass_ticket=1Say5lfE1%2FWnnYnvV%2Fo%2BEG25lxuQly5qT76ESRzqNbmW4IOQW2wESAlI%2BIMWln%2FB\n",
    "\n",
    "#### 1.特征工程有什么作用？\n",
    "\n",
    "数据和特征决定了机器学习的上限，而模型和算法只是逼近这个上限。通过特征过程获得重要和有效的特征，机器学习才能有更好的效果。\n",
    "\n",
    "#### 2.请简述有哪些你知道的特征工程和他们的操作？\n",
    "\n",
    "特征工程包括三方面：\n",
    "\n",
    "##### a. 数据获取及清洗\n",
    "\n",
    "数据需考虑数据对任务是否有帮助及数据是否能够被采集。数据清洗主要是去除脏数据，需结合业务对数据进行过滤，例如去除爬虫、作弊等数据，同时对数据异常点进行检测。\n",
    "\n",
    "##### b.特征处理\n",
    "\n",
    "特征处理主要是通过以下一些方法：\n",
    "\n",
    "| 特征处理                       |\n",
    "| ------------------------------ |\n",
    "| 缺失值补充                     |\n",
    "| 幅度调整/归一化                |\n",
    "| 离散化                         |\n",
    "| one-hot/哑编码                 |\n",
    "| Hash与聚类                     |\n",
    "| 统计计算                       |\n",
    "| 数据变换（多项式、指数、对数） |\n",
    "| 特征组合  |\n",
    "\n",
    "##### c.特征选择\n",
    "\n",
    "特征选择主要考虑两方面：\n",
    "\n",
    "###### c1.特征是否发散：方差大小\n",
    "\n",
    "###### c2.特征与目标的相关性：与目标相关性高的特征，应当优先选择。\n",
    "\n",
    "#### 3.有哪些特征选择的方法？\n",
    "\n",
    "特征选择方法有三类：过滤式、包裹式和嵌入式。\n",
    "\n",
    "过滤式：先对数据集进行特征选择，再训练学习器，特征选择过程与后续学习器无关。主要有 方差选择法、相关系数法、卡方检验、互信息法。\n",
    "\n",
    "包裹式：给学习器选择最有利于其性能的特征子集。常用RFE算法。\n",
    "\n",
    "嵌入式：特征选择过程与学习器训练过程融为一体，两者在同一个优化过程中完成。通常使用L1正则化。\n",
    "\n",
    "#### 4.决策树/随机森林的特征重要度是怎么获得的？\n",
    "\n",
    "主要有两种方式：\n",
    "\n",
    "###### a.考察样本经过节点后不纯度减少的值的大小，值越大则特征越重要。\n",
    "\n",
    "###### b.通过包外数据（out of bag）计算特征加入噪声前后对模型预测准确率的影响，影响越大则特征越重要。\n",
    "\n",
    "xgboost中的特征重要度，也可以考虑特征用作分裂的次数"
   ]
  },
  {
   "cell_type": "markdown",
   "metadata": {},
   "source": [
    "## 4.2 评价指标\n",
    "https://mp.weixin.qq.com/s/qExXN0B-AzwWlS728MA41g\n",
    "\n",
    "MAE,RMSE的区别，那个指标对离群点，噪声点更敏感。"
   ]
  },
  {
   "cell_type": "code",
   "execution_count": null,
   "metadata": {
    "collapsed": true
   },
   "outputs": [],
   "source": [
    "## 4.3 "
   ]
  }
 ],
 "metadata": {
  "kernelspec": {
   "display_name": "Python 3",
   "language": "python",
   "name": "python3"
  },
  "language_info": {
   "codemirror_mode": {
    "name": "ipython",
    "version": 3
   },
   "file_extension": ".py",
   "mimetype": "text/x-python",
   "name": "python",
   "nbconvert_exporter": "python",
   "pygments_lexer": "ipython3",
   "version": "3.6.3"
  }
 },
 "nbformat": 4,
 "nbformat_minor": 2
}
