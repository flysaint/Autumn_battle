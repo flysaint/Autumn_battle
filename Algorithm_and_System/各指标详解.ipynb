{
 "cells": [
  {
   "cell_type": "markdown",
   "metadata": {},
   "source": [
    "### 问题1 KS和ROC的区别与联系？\n",
    "TPR = FPR + KS   \n",
    "TPR 和 FPR可以看作 bad_cum_rate 和 good_cum_rate。\n",
    "\n",
    "### 问题2 PSI是预期分布和实际分布的 相对熵吗？\n",
    "\n"
   ]
  },
  {
   "cell_type": "code",
   "execution_count": null,
   "metadata": {},
   "outputs": [],
   "source": []
  }
 ],
 "metadata": {
  "kernelspec": {
   "display_name": "Python 3",
   "language": "python",
   "name": "python3"
  },
  "language_info": {
   "codemirror_mode": {
    "name": "ipython",
    "version": 3
   },
   "file_extension": ".py",
   "mimetype": "text/x-python",
   "name": "python",
   "nbconvert_exporter": "python",
   "pygments_lexer": "ipython3",
   "version": "3.6.5"
  }
 },
 "nbformat": 4,
 "nbformat_minor": 2
}
