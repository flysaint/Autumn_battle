{
 "cells": [
  {
   "cell_type": "code",
   "execution_count": null,
   "metadata": {},
   "outputs": [],
   "source": []
  },
  {
   "cell_type": "markdown",
   "metadata": {},
   "source": [
    "# 01查找\n",
    "## 1.1_二分查找法"
   ]
  },
  {
   "cell_type": "code",
   "execution_count": 12,
   "metadata": {},
   "outputs": [
    {
     "name": "stdout",
     "output_type": "stream",
     "text": [
      "[0, 1, 2, 3, 4, 5, 6, 7, 8, 9]\n"
     ]
    },
    {
     "data": {
      "text/plain": [
       "True"
      ]
     },
     "execution_count": 12,
     "metadata": {},
     "output_type": "execute_result"
    }
   ],
   "source": [
    "from Utils import *\n",
    "\n",
    "'''\n",
    "思路：\n",
    "1. 下标初始化。l,r,m\n",
    "2. 循环走起来。\n",
    "2.1 终止条件。m 和 r\n",
    "2.2 对比条件。3种可能，左边，右边和找到。\n",
    "2.3 循环条件。\n",
    "3. 说不定在边界上。\n",
    "\n",
    "'''\n",
    "\n",
    "\n",
    "def findNum(arr,findNum):\n",
    "    \n",
    "    l = 0\n",
    "    r = len(arr)-1\n",
    "    m = l + int((r-l)/2)\n",
    "    while( m != r):\n",
    "        if findNum < arr[m]:\n",
    "            r = m-1\n",
    "        elif findNum > arr[m]:\n",
    "            l = m+1\n",
    "        else:\n",
    "            return True\n",
    "        m = l + int((r-l)/2)\n",
    "    \n",
    "    if arr[m] == findNum:\n",
    "        return True\n",
    "    \n",
    "    return False\n",
    "\n",
    "\n",
    "findNum(testArr2,0)\n"
   ]
  },
  {
   "cell_type": "markdown",
   "metadata": {},
   "source": [
    "\n",
    "# 02_排序算法\n",
    "\n"
   ]
  },
  {
   "cell_type": "markdown",
   "metadata": {},
   "source": [
    "### 2.1_快速排序\n",
    "\n",
    "快速排序的思考\n",
    "\n",
    "Partition过程。阿左阿右阿大阿小的故事。收尾阿左终于上了阿右。\n",
    "QucikSort过程。在阿左没上阿右的情况下。随机交换，左管左，右管右。"
   ]
  },
  {
   "cell_type": "code",
   "execution_count": 9,
   "metadata": {},
   "outputs": [
    {
     "name": "stdout",
     "output_type": "stream",
     "text": [
      "[1, 3, 5, 2, 7, 8, 0, 6, 4, 9]\n",
      "[0, 1, 2, 3, 4, 5, 6, 7, 8, 9]\n",
      "[0, 1, 2, 3, 4, 5, 6, 7, 8, 9]\n"
     ]
    }
   ],
   "source": [
    "from Utils import *\n",
    "\n",
    "def Partition(arr,l,r):\n",
    "    '''\n",
    "    思路：\n",
    "    Partition\n",
    "    阿左阿右阿小阿大安排座位的故事\n",
    "    左右生大小，一起玩游戏。\n",
    "    交换左右。\n",
    "    返回大小。\n",
    "    3种情况对比\n",
    "    1) 阿左等于阿右。等于区域进1.阿左进1\n",
    "    2) 阿左大于阿右。大于区域左移1位。交换阿左和阿大-1。阿大-1\n",
    "    3) 阿左小于阿右。小于区域右移动1位。交换阿左和阿小+1。阿小+1\n",
    "    '''\n",
    "    less = l-1\n",
    "    more = r\n",
    "    while(l < more):\n",
    "        if arr[l] == arr[r]:\n",
    "            l += 1\n",
    "        elif arr[l] > arr[r]:\n",
    "            swap(arr,l,more-1)\n",
    "            more -= 1\n",
    "        elif arr[l] < arr[r]:\n",
    "            swap(arr,l,less+1)\n",
    "            less += 1\n",
    "            l += 1\n",
    "    swap(arr,l,r)\n",
    "    return less,more\n",
    "\n",
    "def QuickSort1(arr):\n",
    "    '''\n",
    "    思路：判断和调用另一个方法\n",
    "    '''\n",
    "    if arr is None or len(arr) < 1:\n",
    "        return None\n",
    "    \n",
    "    return QucikSort2(arr,0,len(arr)-1)\n",
    "\n",
    "def QucikSort2(arr,l,r):\n",
    "    '''\n",
    "    思路：通过Partition过程，返回本次排序的中间结果\n",
    "    左右不相遇。\n",
    "    继续Partition\n",
    "    左跟左，右跟右\n",
    "    '''\n",
    "    if l < r:\n",
    "        m = random.sample(range(l,r+1),1)[0]\n",
    "        swap(arr,m,r)\n",
    "        left,right = Partition(arr,l,r)\n",
    "        QucikSort2(arr,l,left)\n",
    "        QucikSort2(arr,right,r)\n",
    "    \n",
    "\n",
    "\n",
    "testArr1,testArr2,testArr3 = get_Arr(10)\n",
    "\n",
    "QuickSort1(testArr2)\n",
    "\n",
    "print(testArr1)\n",
    "print(testArr2)\n",
    "print(testArr3)"
   ]
  },
  {
   "cell_type": "markdown",
   "metadata": {},
   "source": [
    "## 1.2_堆排序\n",
    "思路：实现大顶堆，然后每次插入一个数据自动形成大顶堆，再对剩下的进行插入。\n"
   ]
  },
  {
   "cell_type": "code",
   "execution_count": 73,
   "metadata": {},
   "outputs": [],
   "source": [
    "def heapInsert(arr,index):\n",
    "    '''\n",
    "    思路：\n",
    "\n",
    "    获取index的父节点\n",
    "    如果大于index的父节点值，交换当前值与父节点的值。\n",
    "    更新index的和父节点的值。\n",
    "    亮点。直接用while判断，如果index==father_index，此时相等，while条件依然不成立。\n",
    "    把原始就当作大根堆处理\n",
    "    \n",
    "    '''\n",
    "    father_index = int((index-1)/2)\n",
    "    while(arr[index] > arr[father_index]):\n",
    "        swap(arr,index,father_index)\n",
    "        index = father_index\n",
    "        father_index = int((index-1)/2)\n",
    "\n",
    "        \n",
    "def heapfy(arr,start,end):\n",
    "    '''\n",
    "    思路：\n",
    "    '''\n",
    "    left = 2*start+1\n",
    "    while(left <= end):\n",
    "        #print(\"=================\")\n",
    "        #print(\"left = {},end = {}\".format(left,end))\n",
    "        #print(\"arr = {}\".format(arr))\n",
    "        # 很多美国人和中国人都很傻\n",
    "        \n",
    "        # 如果有右孩子，则进行对比\n",
    "        if left + 1 <= end:\n",
    "            largest = left if arr[left] > arr[left + 1] else left + 1\n",
    "        else:\n",
    "            largest = left\n",
    "        # 和较大的值做交换\n",
    "        if arr[start] > arr[largest]:\n",
    "            return# 已经是大根堆，则跳出循环\n",
    "        swap(arr,start,largest)\n",
    "        #print(\"arr = {}\".format(arr))\n",
    "        # 更新\n",
    "        start = largest\n",
    "        left = 2*start + 1\n",
    "        \n",
    "    \n",
    "        # 是第一个还是最后一个\n",
    "\n",
    "def HeapSort(arr):\n",
    "    \n",
    "    '''\n",
    "    思路：\n",
    "    退休的故事。\n",
    "    1. 初步选举。先让堆花酒酒量好的人，在各个关键位置。插入大根堆。让新人跟前辈爸爸比赛。\n",
    "    2. 功成退休。让酒量最好的人不断退休。\n",
    "    3. 剩余选举。推举剩下人里酒量最好的人。暂时的领导不断跟下属PK的故事。\n",
    "    '''\n",
    "\n",
    "    if arr is None or len(arr) < 2:\n",
    "        return \n",
    "\n",
    "    for i in range(len(arr)):\n",
    "        heapInsert(arr,i)\n",
    "    end = len(arr)-1\n",
    "    swap(arr,0,end)\n",
    "    end -= 1\n",
    "    heapfy(arr,0,end)\n",
    "\n",
    "    while(end>0):\n",
    "        swap(arr,0,end)\n",
    "        end-=1\n",
    "        heapfy(arr,0,end)\n"
   ]
  },
  {
   "cell_type": "code",
   "execution_count": 74,
   "metadata": {},
   "outputs": [],
   "source": [
    "from Utils import *\n",
    "testArr1,testArr2,testArr3 = get_Arr(10)\n",
    "HeapSort(testArr2)\n",
    "\n",
    "print(testArr1)\n",
    "print(testArr2)\n",
    "print(testArr3)"
   ]
  },
  {
   "cell_type": "markdown",
   "metadata": {},
   "source": [
    "## 1.3 归并排序\n",
    "\n",
    "思路：社区管辖，归并里外。\n",
    "1. 归并外。1）落单人员，直接返回。2）社区中点，切分左右，继续归并外。3）左右管辖结果给归并里。\n",
    "2. 归并里。左右社区合并的故事。左社区右社区都有序，进行合并的故事。\n",
    "\n"
   ]
  },
  {
   "cell_type": "code",
   "execution_count": 112,
   "metadata": {},
   "outputs": [],
   "source": [
    "\n",
    "def mergInner(left,right):\n",
    "    helpArr = []\n",
    "    while(left and right):\n",
    "        if left[0] <= right[0]:\n",
    "            helpArr.append(left.pop(0))\n",
    "        else:\n",
    "            helpArr.append(right.pop(0))\n",
    "    while(left):\n",
    "        helpArr.append(left.pop(0))\n",
    "    while(right):\n",
    "        helpArr.append(right.pop(0))\n",
    "    \n",
    "    return helpArr\n"
   ]
  },
  {
   "cell_type": "code",
   "execution_count": 113,
   "metadata": {},
   "outputs": [],
   "source": [
    "def mergSortOut(lst):\n",
    "    if len(lst) == 1:\n",
    "        return lst\n",
    "    mid = int(len(lst)/2)\n",
    "    LeftLst = mergSortOut(lst[:mid])\n",
    "    RightLst = mergSortOut(lst[mid:])\n",
    "    return mergInner(LeftLst,RightLst)"
   ]
  },
  {
   "cell_type": "code",
   "execution_count": 114,
   "metadata": {},
   "outputs": [
    {
     "name": "stdout",
     "output_type": "stream",
     "text": [
      "[8, 3, 9, 0, 1, 6, 7, 4, 2, 5]\n",
      "[0, 1, 2, 3, 4, 5, 6, 7, 8, 9]\n",
      "[0, 1, 2, 3, 4, 5, 6, 7, 8, 9]\n"
     ]
    }
   ],
   "source": [
    "from Utils import *\n",
    "testArr1,testArr2,testArr3 = get_Arr(10)\n",
    "testArr2 = mergSortOut(testArr2)\n",
    "print(testArr1)\n",
    "print(testArr2)\n",
    "print(testArr3)"
   ]
  },
  {
   "cell_type": "markdown",
   "metadata": {},
   "source": [
    "## 1.4 单链表排序\n",
    "参考 https://www.cnblogs.com/lanlingshao/p/10661455.html"
   ]
  },
  {
   "cell_type": "code",
   "execution_count": 119,
   "metadata": {},
   "outputs": [
    {
     "name": "stdout",
     "output_type": "stream",
     "text": [
      "0\n",
      "1\n",
      "4\n",
      "6\n",
      "7\n"
     ]
    }
   ],
   "source": [
    "# 第一次遍历链表，将链表中的值顺序存储到列表中，\n",
    "# 第二次遍历链表，将排序后的列表的值放入链表中，时间复杂度为O(2n),空间复杂度应该为O(2n)，时间复杂度为O(n)\n",
    "\n",
    "class ListNode(object):\n",
    "    def __init__(self, x):\n",
    "        self.val = x\n",
    "        self.next = None\n",
    "\n",
    "\n",
    "class Solution(object):\n",
    "    def sortList(self, head):\n",
    "        if not head or not head.next:\n",
    "            return head\n",
    "\n",
    "        prev, slow, fast = None, head, head\n",
    "\n",
    "        while fast and fast.next:\n",
    "            prev, slow, fast = slow, slow.next, fast.next\n",
    "\n",
    "        prev.next = None  # 将链表切断，分为head和slow两条子链\n",
    "\n",
    "        \"\"\"\n",
    "        等价以下代码\n",
    "        l1 = self.sortList(head)\n",
    "        l2 = self.sortList(slow)\n",
    "        return self.merge(l1, l2)\n",
    "        \"\"\"\n",
    "        return self.merge(*map(self.sortList, (head, slow)))\n",
    "\n",
    "    def merge(self, l1, l2):\n",
    "        dummy = l = ListNode(None)\n",
    "\n",
    "        while l1 and l2:\n",
    "            if l1.val < l2.val:\n",
    "                l.next, l, l1 = l1, l1, l1.next\n",
    "            else:\n",
    "                l.next, l, l2 = l2, l2, l2.next\n",
    "\n",
    "        l.next = l1 or l2\n",
    "        \"\"\"\n",
    "        l1,l2长度不一样时，l.next为l1,l2中比另一个长度长的子链\n",
    "        如 l1: 1->2  l2: 3->4->5, l.next为5\n",
    "        等价于以下代码\n",
    "        if l1:\n",
    "            l.next = l1\n",
    "        else:\n",
    "            l.next = l2\n",
    "        \"\"\"\n",
    "\n",
    "        return dummy.next\n",
    "\n",
    "\n",
    "if __name__ == \"__main__\":\n",
    "    s = Solution()\n",
    "    l = head = ListNode(None)\n",
    "    for val in [0, 4, 1, 6, 7]:\n",
    "        l.next = ListNode(val)\n",
    "        l = l.next\n",
    "\n",
    "    li = s.sortList(head.next)\n",
    "    while li:\n",
    "        print(li.val)\n",
    "        li = li.next\n"
   ]
  },
  {
   "cell_type": "markdown",
   "metadata": {},
   "source": [
    "# 2 二叉树"
   ]
  },
  {
   "cell_type": "markdown",
   "metadata": {},
   "source": [
    "## 二叉树搜索第k大\n",
    "设x是二叉搜索树中的一个结点。如果y是x左子树中的一个结点，那么会有y.key<=x.key；如果y是x右子树中的一个节点，那么有y.key>=x.key。\n"
   ]
  },
  {
   "cell_type": "code",
   "execution_count": 64,
   "metadata": {},
   "outputs": [],
   "source": [
    "# -*- coding:utf-8 -*-\n",
    "# class TreeNode:\n",
    "#     def __init__(self, x):\n",
    "#         self.val = x\n",
    "#         self.left = None\n",
    "#         self.right = None\n",
    "class Solution:\n",
    "    # 返回对应节点TreeNode\n",
    "    def KthNode(self, pRoot, k):\n",
    "        # write code here\n",
    "        if pRoot is None or k==0:\n",
    "            return\n",
    "        result =  self.KthNodeCore(pRoot)\n",
    "        if len(result)<k:\n",
    "            return None\n",
    "        return result[k-1]\n",
    "    def KthNodeCore(self, pRoot):\n",
    "        result = []\n",
    "        if not pRoot:\n",
    "            return []\n",
    "        if pRoot.left:\n",
    "            result.extend(self.KthNodeCore(pRoot.left))\n",
    "        result.append(pRoot)\n",
    "        if pRoot.right:\n",
    "            result.extend(self.KthNodeCore(pRoot.right))\n",
    "        return result\n"
   ]
  },
  {
   "cell_type": "code",
   "execution_count": 70,
   "metadata": {},
   "outputs": [
    {
     "name": "stdout",
     "output_type": "stream",
     "text": [
      "6\n",
      "[8, 16, 9, 6, 17, 5, 2, 3, 18, 0]\n"
     ]
    }
   ],
   "source": []
  },
  {
   "cell_type": "code",
   "execution_count": 58,
   "metadata": {},
   "outputs": [
    {
     "name": "stdout",
     "output_type": "stream",
     "text": [
      "[20, 11, 17, 7, 18, 5, 14, 4, 19, 13]\n"
     ]
    }
   ],
   "source": [
    "print(random.sample(range(1,21),10))"
   ]
  },
  {
   "cell_type": "markdown",
   "metadata": {},
   "source": [
    "## 3 链表"
   ]
  },
  {
   "cell_type": "markdown",
   "metadata": {},
   "source": [
    "### 3.1 移除倒数第N个节点\n",
    "思路1：两个list。\n",
    "将list中地址依次存入假设有k位。遍历完成后，将从K-N位置上的删除，在连接前后的。\n",
    "思路2：\n",
    "两个list。一个先走，一个后走。当先走的到达N，后面也走，先走达到尾部。后走停止。删除该位置，再链接前后。"
   ]
  },
  {
   "cell_type": "code",
   "execution_count": 79,
   "metadata": {},
   "outputs": [
    {
     "name": "stdout",
     "output_type": "stream",
     "text": [
      "i = 0,j = 0\n",
      "i = 1,j = 0\n",
      "i = 2,j = 0\n",
      "i = 4,j = 1\n",
      "i = 5,j = 2\n",
      "i = 6,j = 3\n",
      "i = 7,j = 4\n",
      "i = 8,j = 5\n",
      "i = 9,j = 6\n",
      "final i = 10,j = 7\n",
      "[3, 1, 9, 7, 0, 5, 8, 6, 2, 4]\n",
      "[3, 1, 9, 7, 0, 5, 6, 2, 4]\n",
      "[0, 1, 2, 3, 4, 5, 6, 7, 8, 9]\n"
     ]
    }
   ],
   "source": [
    "import Utils as u\n",
    "\n",
    "testArr1,testArr2,testArr3 = get_Arr(10)\n",
    "def remove_N(arr,N):\n",
    "    i,j  = 0,0\n",
    "    lens = len(arr)\n",
    "    while i < lens:\n",
    "        print(\"i = {},j = {}\".format(i,j))\n",
    "        if i - j < N:\n",
    "            i += 1\n",
    "        if i - j == N:\n",
    "            i += 1\n",
    "            j += 1\n",
    "    print(\"final i = {},j = {}\".format(i,j))\n",
    "    arr.pop(j-1)\n",
    "#     return arr\n",
    "\n",
    "remove_N(testArr2,3)\n",
    "print(testArr1)\n",
    "print(testArr2)\n",
    "print(testArr3)\n",
    "    "
   ]
  },
  {
   "cell_type": "markdown",
   "metadata": {},
   "source": [
    "### 3.2 链表有环问题\n",
    "判断一个单链表是否存在环型链接并找出环的开始节点  \n",
    "\n",
    "故事。诸葛亮的八卦阵。伏击杀死东吴追兵。  \n",
    "1）消灭第一波吴军。蜀军和吴军同时从起点出发，蜀军的速度是吴军的两倍。前方有八卦阵。蜀军在阵绕了N圈后，从后追上吴军，消灭。  \n",
    "2）消灭第二波吴军。要在八卦阵前消灭。蜀军消灭第一波吴军后，第二波吴军再次出发。蜀军从第一次战场出发，这次每次走一步，在八卦阵口消灭吴军。\n",
    "\n",
    "原理 \n",
    "参数定义。第一次战斗，经过时间T。从起点到八卦阵有Len步，八卦阵的周长是R。相遇的地方是，八卦阵起点后X步。  \n",
    "吴军。第一波 T = Len + X  \n",
    "蜀军。第一波 2T = Len + NR + X(蜀军在八卦阵中走了N圈)  \n",
    "\n",
    "Len = NR  - X\n",
    "即 吴军走 Len 步，蜀军从起点出发，正好差 X 步走完 N圈。因此直接先让蜀军走X步。\n"
   ]
  },
  {
   "cell_type": "code",
   "execution_count": 109,
   "metadata": {},
   "outputs": [],
   "source": [
    "nodes = []\n",
    "node0=node(0)\n",
    "node1=node(1)\n",
    "node2=node(2)\n",
    "node3=node(3)\n",
    "node4=node(4)\n",
    "node5=node(5)\n",
    "node6=node(6)\n",
    "node7=node(7)\n",
    "node8=node(8)\n",
    "node9=node(9)\n",
    "node10=node(10)\n",
    "node11=node(11)\n",
    "node12=node(12)\n",
    "node13=node(13)\n",
    "node14=node(14)\n",
    "node15=node(15)\n",
    "node16=node(16)\n",
    "node17=node(17)\n",
    "node18=node(18)\n",
    "node19=node(19)\n",
    "\n",
    "for i in range(20):\n",
    "    nodes.append(eval(\"node\"+str(i)))\n",
    "\n",
    "lst = [i for i in range(20)]\n",
    "\n",
    "out_nodes = [nodes[i] for i in lst]"
   ]
  },
  {
   "cell_type": "code",
   "execution_count": 110,
   "metadata": {},
   "outputs": [
    {
     "name": "stdout",
     "output_type": "stream",
     "text": [
      "i = 0\n",
      "i = 1\n",
      "i = 2\n",
      "i = 3\n",
      "i = 4\n",
      "i = 5\n",
      "i = 6\n",
      "i = 7\n",
      "i = 8\n",
      "i = 9\n",
      "i = 10\n",
      "i = 11\n",
      "i = 12\n",
      "i = 13\n",
      "i = 14\n",
      "i = 15\n",
      "i = 16\n",
      "i = 17\n",
      "i = 18\n"
     ]
    }
   ],
   "source": [
    "# 判断是否有环\n",
    "pointerA = nodes[0]\n",
    "pointerB = nodes[0]\n",
    "\n",
    "pointerA = pointerA.next\n",
    "pointerB = pointerB.next.next\n",
    "\n",
    "while pointerA and pointerB:\n",
    "    \n",
    "    print(\"Now  ===== pointerA = {},pointerB = {}\".format(pointerA.data,pointerB.data))\n",
    "    if pointerA == pointerB:\n",
    "        print(\"we have rucle! pointerA.data = {},pointerB.data = {}\".format(pointerA.data,pointerB.data))\n",
    "        break\n",
    "    \n",
    "    pointerA = pointerA.next\n",
    "    pointerB = pointerB.next.next\n",
    "\n",
    "\n",
    "# 判断环的入口\n",
    "pointerC = nodes[0]    \n",
    "\n",
    "while pointerB and pointerC:\n",
    "    \n",
    "    if pointerC == pointerB:\n",
    "        print(\"we find entrance pointerB.data = {},pointerC.data = {}\".format(pointerB.data,pointerC.data))\n",
    "        break\n",
    "    pointerC = pointerC.next\n",
    "    pointerB = pointerB.next\n",
    "    "
   ]
  },
  {
   "cell_type": "markdown",
   "metadata": {},
   "source": [
    "## 3.3 二叉树转链表\n",
    "给定一个二叉树，将该二叉树 就地(in-place)转换为单链表。单链表中节点顺序 为二叉树前序遍历顺序"
   ]
  },
  {
   "cell_type": "code",
   "execution_count": null,
   "metadata": {},
   "outputs": [],
   "source": [
    "就是顺序遍历二叉树.写个前序遍历就好了"
   ]
  },
  {
   "cell_type": "code",
   "execution_count": 115,
   "metadata": {},
   "outputs": [],
   "source": [
    "import Utils as u\n",
    "UsedTree = u.get_random_tree(10)"
   ]
  },
  {
   "cell_type": "code",
   "execution_count": 116,
   "metadata": {},
   "outputs": [
    {
     "name": "stdout",
     "output_type": "stream",
     "text": [
      "the tree print level by level is :\n",
      "3 \n",
      "18 11 \n",
      "10 20 17 8 \n",
      "1 12 19 N N N N N \n",
      "\n",
      "current tree's depth is 4\n",
      "current slashes depth im_resize:\n",
      "8\n",
      "current levle's list is:\n",
      "['3', '\\n']\n",
      "current slashes depth im_resize:\n",
      "4\n",
      "current levle's list is:\n",
      "['18', '11', '\\n']\n",
      "current slashes depth im_resize:\n",
      "2\n",
      "current levle's list is:\n",
      "['10', '20', '17', '8', '\\n']\n",
      "current slashes depth im_resize:\n",
      "1\n",
      "current levle's list is:\n",
      "['1', '12', '19', 'N', 'N', 'N', 'N', 'N', '\\n']\n",
      "                         3                                                 \n",
      "                       /   \\\n",
      "                      /     \\\n",
      "                     /       \\\n",
      "                    /         \\\n",
      "                   /           \\\n",
      "                  /             \\\n",
      "                 /               \\\n",
      "                /                 \\\n",
      "             18                      11                        \n",
      "           /   \\                   /   \\\n",
      "          /     \\                 /     \\\n",
      "         /       \\               /       \\\n",
      "        /         \\             /         \\\n",
      "       10          20          17          8             \n",
      "     /   \\       /   \\       /   \\       /   \\\n",
      "    /     \\     /     \\     /     \\     /     \\\n",
      "    1     12    19    N     N     N     N     N       \n"
     ]
    }
   ],
   "source": [
    "u.pretty_print(UsedTree)"
   ]
  },
  {
   "cell_type": "code",
   "execution_count": 117,
   "metadata": {},
   "outputs": [
    {
     "data": {
      "text/plain": [
       "3"
      ]
     },
     "execution_count": 117,
     "metadata": {},
     "output_type": "execute_result"
    }
   ],
   "source": [
    "class Solution:\n",
    "    def flatten(self, root: TreeNode) -> None:\n",
    "        \"\"\"\n",
    "        Do not return anything, modify root in-place instead.\n",
    "        \"\"\"\n",
    "        # 鲁棒性\n",
    "        if not root:\n",
    "            return None\n",
    "        # 递归（后序遍历）\n",
    "        self.flatten(root.left)\n",
    "        self.flatten(root.right)\n",
    "        # 有点像荡秋千。荡左孩：右边先跳，左边跳到右边，左边是空，只要右还在，不断传球给右，最初跳出去的跳回来。\n",
    "        if root.left:\n",
    "            #左树接右位\n",
    "            right = root.right\n",
    "            root.right = root.left\n",
    "            root.left = None\n",
    "            #右树接最后\n",
    "            while root.right:\n",
    "                root = root.right\n",
    "            root.right = right\n"
   ]
  },
  {
   "cell_type": "markdown",
   "metadata": {},
   "source": [
    "## 04 DFS BFS 拓扑序"
   ]
  },
  {
   "cell_type": "code",
   "execution_count": 119,
   "metadata": {},
   "outputs": [],
   "source": [
    "import networkx as nx\n",
    "import matplotlib.pyplot as plt\n",
    "def dfs(graph,node_start,max_step=10):\n",
    "\tassert max_step>=0 and node_start in graph.nodes()\n",
    "\tres_graph=nx.DiGraph()\n",
    "\tcur_step=0\n",
    "\tstack_list=[]\n",
    "\tvisited={}\n",
    "\tprint(node_start)\n",
    "\tvisited[node_start]='1'\n",
    "\tstack_list.append(node_start)\n",
    "\twhile len(stack_list)>0:\n",
    "\t\tcur_node=stack_list[-1]\n",
    "\t\tnext_nodes=graph[cur_node].keys()\n",
    "\t\tif len(next_nodes)==0:#叶子节点要回退\n",
    "\t\t\tstack_list.pop()\n",
    "\t\t\tcur_step=cur_step-1\n",
    "\t\telse:\n",
    "\t\t\tif (len(set(next_nodes)-set(visited.keys()))==0 or cur_step>=max_step):\n",
    "\t\t\t#如果都被访问过 要回退\n",
    "\t\t\t\tstack_list.pop()\n",
    "\t\t\t\tcur_step=cur_step-1\n",
    "\t\t\telse:\n",
    "\t\t\t\tfor i in next_nodes:\n",
    "\t\t\t\t\tres_graph.add_edge(cur_node,i)\n",
    "\t\t\t\t\tif i not in visited:\n",
    "\t\t\t\t\t\tprint(i)\n",
    "\t\t\t\t\t\tvisited[i]='1'\n",
    "\t\t\t\t\t\tstack_list.append(i)\n",
    "\t\t\t\t\t\tcur_step=cur_step+1\n",
    "\t\t\t\t\t\tbreak\n",
    "\treturn res_graph"
   ]
  },
  {
   "cell_type": "code",
   "execution_count": null,
   "metadata": {},
   "outputs": [],
   "source": []
  }
 ],
 "metadata": {
  "kernelspec": {
   "display_name": "Python 3",
   "language": "python",
   "name": "python3"
  },
  "language_info": {
   "codemirror_mode": {
    "name": "ipython",
    "version": 3
   },
   "file_extension": ".py",
   "mimetype": "text/x-python",
   "name": "python",
   "nbconvert_exporter": "python",
   "pygments_lexer": "ipython3",
   "version": "3.6.5"
  }
 },
 "nbformat": 4,
 "nbformat_minor": 2
}
