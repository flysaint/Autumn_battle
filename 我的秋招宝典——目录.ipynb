{
 "cells": [
  {
   "cell_type": "markdown",
   "metadata": {},
   "source": [
    "# 我的秋招系列\n",
    "## 目录\n",
    "## 1 项目宝典。\n",
    "## 2 算法原理。\n",
    "### 2.1. 有监督学习。\n",
    "### 2.2. 深度学习。\n",
    "### 2.3. 无监督学习。\n",
    "### 2.4. 通用知识。评价指标，优化方法，特征工程等。\n",
    "### 2.5. 半监督学习。\n",
    "### 2.6. 生成模型和判别模型等。\n",
    "## 3 建模宝典。\n",
    "## 4 编程宝典。\n",
    "## 5 大数据宝典。"
   ]
  },
  {
   "cell_type": "code",
   "execution_count": null,
   "metadata": {},
   "outputs": [],
   "source": []
  }
 ],
 "metadata": {
  "kernelspec": {
   "display_name": "Python 3",
   "language": "python",
   "name": "python3"
  },
  "language_info": {
   "codemirror_mode": {
    "name": "ipython",
    "version": 3
   },
   "file_extension": ".py",
   "mimetype": "text/x-python",
   "name": "python",
   "nbconvert_exporter": "python",
   "pygments_lexer": "ipython3",
   "version": "3.6.5"
  }
 },
 "nbformat": 4,
 "nbformat_minor": 2
}
