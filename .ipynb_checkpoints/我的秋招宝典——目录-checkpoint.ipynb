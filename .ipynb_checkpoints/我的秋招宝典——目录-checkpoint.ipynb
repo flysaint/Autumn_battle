{
 "cells": [
  {
   "cell_type": "markdown",
   "metadata": {},
   "source": [
    "# 我的秋招系列\n",
    "目录\n",
    "系列1. 有监督学习。\n",
    "系列2. 深度学习。\n",
    "系列3. 无监督学习。\n",
    "系列4. 通用知识。评价指标，优化方法等。\n",
    "系列5. 半监督学习。\n",
    "系列6. 生成模型和判别模型等。"
   ]
  }
 ],
 "metadata": {
  "kernelspec": {
   "display_name": "Python 3",
   "language": "python",
   "name": "python3"
  },
  "language_info": {
   "codemirror_mode": {
    "name": "ipython",
    "version": 3
   },
   "file_extension": ".py",
   "mimetype": "text/x-python",
   "name": "python",
   "nbconvert_exporter": "python",
   "pygments_lexer": "ipython3",
   "version": "3.6.5"
  }
 },
 "nbformat": 4,
 "nbformat_minor": 2
}
