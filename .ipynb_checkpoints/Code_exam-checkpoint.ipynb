{
 "cells": [
  {
   "cell_type": "code",
   "execution_count": null,
   "metadata": {},
   "outputs": [],
   "source": []
  },
  {
   "cell_type": "markdown",
   "metadata": {},
   "source": [
    "## 01_二分查找法"
   ]
  },
  {
   "cell_type": "code",
   "execution_count": 12,
   "metadata": {},
   "outputs": [
    {
     "name": "stdout",
     "output_type": "stream",
     "text": [
      "[0, 1, 2, 3, 4, 5, 6, 7, 8, 9]\n"
     ]
    },
    {
     "data": {
      "text/plain": [
       "True"
      ]
     },
     "execution_count": 12,
     "metadata": {},
     "output_type": "execute_result"
    }
   ],
   "source": [
    "from Utils import *\n",
    "\n",
    "'''\n",
    "思路：\n",
    "1. 下标初始化。l,r,m\n",
    "2. 循环走起来。\n",
    "2.1 终止条件。m 和 r\n",
    "2.2 对比条件。3种可能，左边，右边和找到。\n",
    "2.3 循环条件。\n",
    "3. 说不定在边界上。\n",
    "\n",
    "'''\n",
    "\n",
    "\n",
    "def findNum(arr,findNum):\n",
    "    \n",
    "    l = 0\n",
    "    r = len(arr)-1\n",
    "    m = l + int((r-l)/2)\n",
    "    while( m != r):\n",
    "        if findNum < arr[m]:\n",
    "            r = m-1\n",
    "        elif findNum > arr[m]:\n",
    "            l = m+1\n",
    "        else:\n",
    "            return True\n",
    "        m = l + int((r-l)/2)\n",
    "    \n",
    "    if arr[m] == findNum:\n",
    "        return True\n",
    "    \n",
    "    return False\n",
    "\n",
    "\n",
    "findNum(testArr2,0)\n"
   ]
  },
  {
   "cell_type": "markdown",
   "metadata": {},
   "source": [
    "### 02_快速排序"
   ]
  },
  {
   "cell_type": "markdown",
   "metadata": {},
   "source": [
    "快速排序的思考\n",
    "\n",
    "Partition过程。阿左阿右阿大阿小的故事。收尾阿左终于上了阿右。\n",
    "QucikSort过程。在阿左没上阿右的情况下。随机交换，左管左，右管右。"
   ]
  },
  {
   "cell_type": "code",
   "execution_count": 9,
   "metadata": {},
   "outputs": [
    {
     "name": "stdout",
     "output_type": "stream",
     "text": [
      "[1, 3, 5, 2, 7, 8, 0, 6, 4, 9]\n",
      "[0, 1, 2, 3, 4, 5, 6, 7, 8, 9]\n",
      "[0, 1, 2, 3, 4, 5, 6, 7, 8, 9]\n"
     ]
    }
   ],
   "source": [
    "from Utils import *\n",
    "\n",
    "def Partition(arr,l,r):\n",
    "    '''\n",
    "    思路：\n",
    "    Partition\n",
    "    阿左阿右阿小阿大的故事\n",
    "    3种情况对比\n",
    "    1) 阿左等于阿右。等于区域进1.阿左进1\n",
    "    2) 阿左大于阿右。大于区域左移1位。交换阿左和阿大-1。阿大-1\n",
    "    3) 阿左小于阿右。小于区域右移动1位。交换阿左和阿小+1。阿小+1\n",
    "    '''\n",
    "    less = l-1\n",
    "    more = r\n",
    "    while(l < more):\n",
    "        if arr[l] == arr[r]:\n",
    "            l += 1\n",
    "        elif arr[l] > arr[r]:\n",
    "            swap(arr,l,more-1)\n",
    "            more -= 1\n",
    "        elif arr[l] < arr[r]:\n",
    "            swap(arr,l,less+1)\n",
    "            less += 1\n",
    "            l += 1\n",
    "    swap(arr,l,r)\n",
    "    return less,more\n",
    "\n",
    "def QuickSort1(arr):\n",
    "    '''\n",
    "    思路：判断和调用另一个方法\n",
    "    '''\n",
    "    if arr is None or len(arr) < 1:\n",
    "        return None\n",
    "    \n",
    "    return QucikSort2(arr,0,len(arr)-1)\n",
    "\n",
    "def QucikSort2(arr,l,r):\n",
    "    '''\n",
    "    思路：通过Partition过程，返回本次排序的中间结果\n",
    "    '''\n",
    "    if l < r:\n",
    "        m = random.sample(range(l,r+1),1)[0]\n",
    "        swap(arr,m,r)\n",
    "        left,right = Partition(arr,l,r)\n",
    "        QucikSort2(arr,l,left)\n",
    "        QucikSort2(arr,right,r)\n",
    "    \n",
    "\n",
    "\n",
    "testArr1,testArr2,testArr3 = get_Arr(10)\n",
    "\n",
    "QuickSort1(testArr2)\n",
    "\n",
    "print(testArr1)\n",
    "print(testArr2)\n",
    "print(testArr3)"
   ]
  },
  {
   "cell_type": "markdown",
   "metadata": {},
   "source": [
    "## 03_堆排序\n",
    "思路：实现大顶堆，然后每次插入一个数据自动形成大顶堆，再对剩下的进行插入。\n"
   ]
  },
  {
   "cell_type": "code",
   "execution_count": 73,
   "metadata": {},
   "outputs": [],
   "source": [
    "def heapInsert(arr,index):\n",
    "    '''\n",
    "    思路：\n",
    "\n",
    "    获取index的父节点\n",
    "    如果大于index的父节点值，交换当前值与父节点的值。\n",
    "    更新index的和父节点的值。\n",
    "    亮点。直接用while判断，如果index==father_index，此时相等，while条件依然不成立。\n",
    "    把原始就当作大根堆处理\n",
    "    \n",
    "    '''\n",
    "    father_index = int((index-1)/2)\n",
    "    while(arr[index] > arr[father_index]):\n",
    "        swap(arr,index,father_index)\n",
    "        index = father_index\n",
    "        father_index = int((index-1)/2)\n",
    "\n",
    "        \n",
    "def heapfy(arr,start,end):\n",
    "    '''\n",
    "    思路：\n",
    "    '''\n",
    "    left = 2*start+1\n",
    "    while(left <= end):\n",
    "        #print(\"=================\")\n",
    "        #print(\"left = {},end = {}\".format(left,end))\n",
    "        #print(\"arr = {}\".format(arr))\n",
    "        # 很多美国人和中国人都很傻\n",
    "        \n",
    "        # 如果有右孩子，则进行对比\n",
    "        if left + 1 <= end:\n",
    "            largest = left if arr[left] > arr[left + 1] else left + 1\n",
    "        else:\n",
    "            largest = left\n",
    "        # 和较大的值做交换\n",
    "        if arr[start] > arr[largest]:\n",
    "            return# 已经是大根堆，则跳出循环\n",
    "        swap(arr,start,largest)\n",
    "        #print(\"arr = {}\".format(arr))\n",
    "        # 更新\n",
    "        start = largest\n",
    "        left = 2*start + 1\n",
    "        \n",
    "    \n",
    "        # 是第一个还是最后一个\n",
    "\n",
    "def HeapSort(arr):\n",
    "    \n",
    "    '''\n",
    "    思路：\n",
    "    退休的故事。\n",
    "    1. 初步选举。先让堆花酒酒量好的人，在各个关键位置。插入大根堆。让新人跟前辈爸爸比赛。\n",
    "    2. 功成退休。让酒量最好的人不断退休。\n",
    "    3. 剩余选举。推举剩下人里酒量最好的人。暂时的领导不断跟下属PK的故事。\n",
    "    '''\n",
    "\n",
    "    if arr is None or len(arr) < 2:\n",
    "        return \n",
    "\n",
    "    for i in range(len(arr)):\n",
    "        heapInsert(arr,i)\n",
    "    end = len(arr)-1\n",
    "    swap(arr,0,end)\n",
    "    end -= 1\n",
    "    heapfy(arr,0,end)\n",
    "\n",
    "    while(end>0):\n",
    "        swap(arr,0,end)\n",
    "        end-=1\n",
    "        heapfy(arr,0,end)\n"
   ]
  },
  {
   "cell_type": "code",
   "execution_count": 74,
   "metadata": {},
   "outputs": [],
   "source": [
    "from Utils import *\n",
    "testArr1,testArr2,testArr3 = get_Arr(10)"
   ]
  },
  {
   "cell_type": "code",
   "execution_count": 75,
   "metadata": {},
   "outputs": [],
   "source": [
    "import copy\n",
    "testArr2 = copy.copy(testArr1)"
   ]
  },
  {
   "cell_type": "code",
   "execution_count": 76,
   "metadata": {},
   "outputs": [
    {
     "name": "stdout",
     "output_type": "stream",
     "text": [
      "[1, 2, 4, 5, 3, 6, 9, 0, 7, 8]\n",
      "[0, 1, 2, 3, 4, 5, 6, 7, 8, 9]\n",
      "[0, 1, 2, 3, 4, 5, 6, 7, 8, 9]\n"
     ]
    }
   ],
   "source": [
    "HeapSort(testArr2)\n",
    "\n",
    "print(testArr1)\n",
    "print(testArr2)\n",
    "print(testArr3)"
   ]
  },
  {
   "cell_type": "code",
   "execution_count": null,
   "metadata": {},
   "outputs": [],
   "source": []
  }
 ],
 "metadata": {
  "kernelspec": {
   "display_name": "Python 3",
   "language": "python",
   "name": "python3"
  },
  "language_info": {
   "codemirror_mode": {
    "name": "ipython",
    "version": 3
   },
   "file_extension": ".py",
   "mimetype": "text/x-python",
   "name": "python",
   "nbconvert_exporter": "python",
   "pygments_lexer": "ipython3",
   "version": "3.6.5"
  }
 },
 "nbformat": 4,
 "nbformat_minor": 2
}
